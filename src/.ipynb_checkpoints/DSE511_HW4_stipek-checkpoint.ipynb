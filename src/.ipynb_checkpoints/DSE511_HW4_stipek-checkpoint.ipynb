{
 "cells": [
  {
   "cell_type": "code",
   "execution_count": 1,
   "id": "0e30ad92-69b3-4fe6-a830-07e4f78aca19",
   "metadata": {},
   "outputs": [
    {
     "name": "stdout",
     "output_type": "stream",
     "text": [
      "Environment ready.\n"
     ]
    }
   ],
   "source": [
    "# Reproducibility\n",
    "import numpy as np\n",
    "import random\n",
    "rng = np.random.default_rng(seed=511)\n",
    "random.seed(511)\n",
    "\n",
    "# Timing and plotting\n",
    "import time\n",
    "import matplotlib.pyplot as plt\n",
    "\n",
    "# Utility: timing helper\n",
    "def time_function(fn, *args, repeat=5, **kwargs):\n",
    "    \"\"\"Return the best of `repeat` wall-clock timings for fn(*args, **kwargs).\"\"\"\n",
    "    best = float('inf')\n",
    "    result = None\n",
    "    for _ in range(repeat):\n",
    "        start = time.perf_counter()\n",
    "        out = fn(*args, **kwargs)\n",
    "        elapsed = time.perf_counter() - start\n",
    "        if elapsed < best:\n",
    "            best = elapsed\n",
    "            result = out\n",
    "    return best, result\n",
    "\n",
    "print(\"Environment ready.\")"
   ]
  },
  {
   "cell_type": "markdown",
   "id": "1c4f5727-16e8-409d-9c04-b1af1ef364a9",
   "metadata": {},
   "source": [
    "Part A — Sorting Showdown\n",
    "Goal: Empirically compare sorting algorithms and relate runtime to big‑O.\n",
    "\n",
    "You will:\n",
    "\n",
    "Generate integer arrays of increasing size.\n",
    "Sort using:\n",
    "Python built‑in sorted() (Time to sort ~ O(n log n) average/worst on random data)\n",
    "Your own insertion sort (O(n²))\n",
    "One additional algorithm of your choice (e.g., numpy.sort); must add\n",
    "Measure wall‑clock runtimes as n grows.\n",
    "Plot runtime vs n and discuss alignment with theory."
   ]
  },
  {
   "cell_type": "code",
   "execution_count": 2,
   "id": "7c9e9621-75b1-43b1-85cd-26a60c9da0dc",
   "metadata": {},
   "outputs": [
    {
     "ename": "AssertionError",
     "evalue": "",
     "output_type": "error",
     "traceback": [
      "\u001b[1;31m---------------------------------------------------------------------------\u001b[0m",
      "\u001b[1;31mAssertionError\u001b[0m                            Traceback (most recent call last)",
      "Cell \u001b[1;32mIn[2], line 11\u001b[0m\n\u001b[0;32m      9\u001b[0m \u001b[38;5;66;03m# Sanity check\u001b[39;00m\n\u001b[0;32m     10\u001b[0m sample \u001b[38;5;241m=\u001b[39m [\u001b[38;5;241m5\u001b[39m, \u001b[38;5;241m2\u001b[39m, \u001b[38;5;241m4\u001b[39m, \u001b[38;5;241m6\u001b[39m, \u001b[38;5;241m1\u001b[39m, \u001b[38;5;241m3\u001b[39m]\n\u001b[1;32m---> 11\u001b[0m \u001b[38;5;28;01massert\u001b[39;00m insertion_sort(sample) \u001b[38;5;241m==\u001b[39m \u001b[38;5;28msorted\u001b[39m(sample)\n\u001b[0;32m     12\u001b[0m \u001b[38;5;28mprint\u001b[39m(\u001b[38;5;124m\"\u001b[39m\u001b[38;5;124mInsertion sort sanity check passed.\u001b[39m\u001b[38;5;124m\"\u001b[39m)\n",
      "\u001b[1;31mAssertionError\u001b[0m: "
     ]
    }
   ],
   "source": [
    "# TODO: Implement insertion sort (in-place or return a new list)\n",
    "def insertion_sort(arr):\n",
    "    a = list(arr)\n",
    "    \n",
    "    #fill in; this version will return a new list using the temp variable a\n",
    "    \n",
    "    return a\n",
    "\n",
    "# Sanity check\n",
    "sample = [5, 2, 4, 6, 1, 3]\n",
    "assert insertion_sort(sample) == sorted(sample)\n",
    "print(\"Insertion sort sanity check passed.\")\n"
   ]
  },
  {
   "cell_type": "code",
   "execution_count": 3,
   "id": "66c48b3c-d568-4e44-8024-77d151087a89",
   "metadata": {},
   "outputs": [],
   "source": [
    "# Experiment sizes (adjust if runtime too long or too short); you can also add more data points\n",
    "sizes = [5_000, 10_000, 20_000]\n",
    "repeat = 3\n",
    "\n",
    "# Cap insertion sort at manageable n\n",
    "ins_cap = 20_000"
   ]
  },
  {
   "cell_type": "code",
   "execution_count": 4,
   "id": "69c48786-4be8-4110-a914-00b22edb1b21",
   "metadata": {},
   "outputs": [
    {
     "ename": "ValueError",
     "evalue": "All arrays must be of the same length",
     "output_type": "error",
     "traceback": [
      "\u001b[1;31m---------------------------------------------------------------------------\u001b[0m",
      "\u001b[1;31mValueError\u001b[0m                                Traceback (most recent call last)",
      "Cell \u001b[1;32mIn[4], line 24\u001b[0m\n\u001b[0;32m     21\u001b[0m     results[\u001b[38;5;124m'\u001b[39m\u001b[38;5;124minsertion_sort\u001b[39m\u001b[38;5;124m'\u001b[39m]\u001b[38;5;241m.\u001b[39mappend(t_insert)\n\u001b[0;32m     23\u001b[0m \u001b[38;5;28;01mimport\u001b[39;00m \u001b[38;5;21;01mpandas\u001b[39;00m \u001b[38;5;28;01mas\u001b[39;00m \u001b[38;5;21;01mpd\u001b[39;00m\n\u001b[1;32m---> 24\u001b[0m dfA \u001b[38;5;241m=\u001b[39m pd\u001b[38;5;241m.\u001b[39mDataFrame(results)\n\u001b[0;32m     25\u001b[0m dfA\n",
      "File \u001b[1;32m~\\AppData\\Local\\anaconda3\\Lib\\site-packages\\pandas\\core\\frame.py:778\u001b[0m, in \u001b[0;36mDataFrame.__init__\u001b[1;34m(self, data, index, columns, dtype, copy)\u001b[0m\n\u001b[0;32m    772\u001b[0m     mgr \u001b[38;5;241m=\u001b[39m \u001b[38;5;28mself\u001b[39m\u001b[38;5;241m.\u001b[39m_init_mgr(\n\u001b[0;32m    773\u001b[0m         data, axes\u001b[38;5;241m=\u001b[39m{\u001b[38;5;124m\"\u001b[39m\u001b[38;5;124mindex\u001b[39m\u001b[38;5;124m\"\u001b[39m: index, \u001b[38;5;124m\"\u001b[39m\u001b[38;5;124mcolumns\u001b[39m\u001b[38;5;124m\"\u001b[39m: columns}, dtype\u001b[38;5;241m=\u001b[39mdtype, copy\u001b[38;5;241m=\u001b[39mcopy\n\u001b[0;32m    774\u001b[0m     )\n\u001b[0;32m    776\u001b[0m \u001b[38;5;28;01melif\u001b[39;00m \u001b[38;5;28misinstance\u001b[39m(data, \u001b[38;5;28mdict\u001b[39m):\n\u001b[0;32m    777\u001b[0m     \u001b[38;5;66;03m# GH#38939 de facto copy defaults to False only in non-dict cases\u001b[39;00m\n\u001b[1;32m--> 778\u001b[0m     mgr \u001b[38;5;241m=\u001b[39m dict_to_mgr(data, index, columns, dtype\u001b[38;5;241m=\u001b[39mdtype, copy\u001b[38;5;241m=\u001b[39mcopy, typ\u001b[38;5;241m=\u001b[39mmanager)\n\u001b[0;32m    779\u001b[0m \u001b[38;5;28;01melif\u001b[39;00m \u001b[38;5;28misinstance\u001b[39m(data, ma\u001b[38;5;241m.\u001b[39mMaskedArray):\n\u001b[0;32m    780\u001b[0m     \u001b[38;5;28;01mfrom\u001b[39;00m \u001b[38;5;21;01mnumpy\u001b[39;00m\u001b[38;5;21;01m.\u001b[39;00m\u001b[38;5;21;01mma\u001b[39;00m \u001b[38;5;28;01mimport\u001b[39;00m mrecords\n",
      "File \u001b[1;32m~\\AppData\\Local\\anaconda3\\Lib\\site-packages\\pandas\\core\\internals\\construction.py:503\u001b[0m, in \u001b[0;36mdict_to_mgr\u001b[1;34m(data, index, columns, dtype, typ, copy)\u001b[0m\n\u001b[0;32m    499\u001b[0m     \u001b[38;5;28;01melse\u001b[39;00m:\n\u001b[0;32m    500\u001b[0m         \u001b[38;5;66;03m# dtype check to exclude e.g. range objects, scalars\u001b[39;00m\n\u001b[0;32m    501\u001b[0m         arrays \u001b[38;5;241m=\u001b[39m [x\u001b[38;5;241m.\u001b[39mcopy() \u001b[38;5;28;01mif\u001b[39;00m \u001b[38;5;28mhasattr\u001b[39m(x, \u001b[38;5;124m\"\u001b[39m\u001b[38;5;124mdtype\u001b[39m\u001b[38;5;124m\"\u001b[39m) \u001b[38;5;28;01melse\u001b[39;00m x \u001b[38;5;28;01mfor\u001b[39;00m x \u001b[38;5;129;01min\u001b[39;00m arrays]\n\u001b[1;32m--> 503\u001b[0m \u001b[38;5;28;01mreturn\u001b[39;00m arrays_to_mgr(arrays, columns, index, dtype\u001b[38;5;241m=\u001b[39mdtype, typ\u001b[38;5;241m=\u001b[39mtyp, consolidate\u001b[38;5;241m=\u001b[39mcopy)\n",
      "File \u001b[1;32m~\\AppData\\Local\\anaconda3\\Lib\\site-packages\\pandas\\core\\internals\\construction.py:114\u001b[0m, in \u001b[0;36marrays_to_mgr\u001b[1;34m(arrays, columns, index, dtype, verify_integrity, typ, consolidate)\u001b[0m\n\u001b[0;32m    111\u001b[0m \u001b[38;5;28;01mif\u001b[39;00m verify_integrity:\n\u001b[0;32m    112\u001b[0m     \u001b[38;5;66;03m# figure out the index, if necessary\u001b[39;00m\n\u001b[0;32m    113\u001b[0m     \u001b[38;5;28;01mif\u001b[39;00m index \u001b[38;5;129;01mis\u001b[39;00m \u001b[38;5;28;01mNone\u001b[39;00m:\n\u001b[1;32m--> 114\u001b[0m         index \u001b[38;5;241m=\u001b[39m _extract_index(arrays)\n\u001b[0;32m    115\u001b[0m     \u001b[38;5;28;01melse\u001b[39;00m:\n\u001b[0;32m    116\u001b[0m         index \u001b[38;5;241m=\u001b[39m ensure_index(index)\n",
      "File \u001b[1;32m~\\AppData\\Local\\anaconda3\\Lib\\site-packages\\pandas\\core\\internals\\construction.py:677\u001b[0m, in \u001b[0;36m_extract_index\u001b[1;34m(data)\u001b[0m\n\u001b[0;32m    675\u001b[0m lengths \u001b[38;5;241m=\u001b[39m \u001b[38;5;28mlist\u001b[39m(\u001b[38;5;28mset\u001b[39m(raw_lengths))\n\u001b[0;32m    676\u001b[0m \u001b[38;5;28;01mif\u001b[39;00m \u001b[38;5;28mlen\u001b[39m(lengths) \u001b[38;5;241m>\u001b[39m \u001b[38;5;241m1\u001b[39m:\n\u001b[1;32m--> 677\u001b[0m     \u001b[38;5;28;01mraise\u001b[39;00m \u001b[38;5;167;01mValueError\u001b[39;00m(\u001b[38;5;124m\"\u001b[39m\u001b[38;5;124mAll arrays must be of the same length\u001b[39m\u001b[38;5;124m\"\u001b[39m)\n\u001b[0;32m    679\u001b[0m \u001b[38;5;28;01mif\u001b[39;00m have_dicts:\n\u001b[0;32m    680\u001b[0m     \u001b[38;5;28;01mraise\u001b[39;00m \u001b[38;5;167;01mValueError\u001b[39;00m(\n\u001b[0;32m    681\u001b[0m         \u001b[38;5;124m\"\u001b[39m\u001b[38;5;124mMixing dicts with non-Series may lead to ambiguous ordering.\u001b[39m\u001b[38;5;124m\"\u001b[39m\n\u001b[0;32m    682\u001b[0m     )\n",
      "\u001b[1;31mValueError\u001b[0m: All arrays must be of the same length"
     ]
    }
   ],
   "source": [
    "results = {\n",
    "    'n': [],\n",
    "    'sorted_builtin': [],\n",
    "    'insertion_sort': [],\n",
    "    'numpy_sort': []  # TODO; must include below or change to another sort\n",
    "}\n",
    "\n",
    "for n in sizes:\n",
    "    data = rng.integers(low=0, high=10_000_000, size=n, dtype=np.int64)\n",
    "    \n",
    "    t_sorted, _ = time_function(sorted, data, repeat=repeat)\n",
    "    # using library similar, could be t_numpy, _ = ... and then your would add to results below\n",
    "    \n",
    "    if n <= ins_cap:\n",
    "        t_insert, _ = time_function(insertion_sort, data, repeat=repeat)\n",
    "    else:\n",
    "        t_insert = np.nan\n",
    "    \n",
    "    results['n'].append(n)\n",
    "    results['sorted_builtin'].append(t_sorted)\n",
    "    results['insertion_sort'].append(t_insert)\n",
    "\n",
    "import pandas as pd\n",
    "dfA = pd.DataFrame(results)\n",
    "dfA"
   ]
  },
  {
   "cell_type": "code",
   "execution_count": 5,
   "id": "c660d4ce-b643-4988-bedd-455c20aa5682",
   "metadata": {},
   "outputs": [
    {
     "ename": "NameError",
     "evalue": "name 'dfA' is not defined",
     "output_type": "error",
     "traceback": [
      "\u001b[1;31m---------------------------------------------------------------------------\u001b[0m",
      "\u001b[1;31mNameError\u001b[0m                                 Traceback (most recent call last)",
      "Cell \u001b[1;32mIn[5], line 5\u001b[0m\n\u001b[0;32m      3\u001b[0m plt\u001b[38;5;241m.\u001b[39mfigure()\n\u001b[0;32m      4\u001b[0m \u001b[38;5;28;01mfor\u001b[39;00m key \u001b[38;5;129;01min\u001b[39;00m [\u001b[38;5;124m'\u001b[39m\u001b[38;5;124msorted_builtin\u001b[39m\u001b[38;5;124m'\u001b[39m, \u001b[38;5;124m'\u001b[39m\u001b[38;5;124mnumpy_sort\u001b[39m\u001b[38;5;124m'\u001b[39m, \u001b[38;5;124m'\u001b[39m\u001b[38;5;124minsertion_sort\u001b[39m\u001b[38;5;124m'\u001b[39m]:\n\u001b[1;32m----> 5\u001b[0m     plt\u001b[38;5;241m.\u001b[39mplot(dfA[\u001b[38;5;124m'\u001b[39m\u001b[38;5;124mn\u001b[39m\u001b[38;5;124m'\u001b[39m], dfA[key], marker\u001b[38;5;241m=\u001b[39m\u001b[38;5;124m'\u001b[39m\u001b[38;5;124mo\u001b[39m\u001b[38;5;124m'\u001b[39m, label\u001b[38;5;241m=\u001b[39mkey)\n\u001b[0;32m      6\u001b[0m plt\u001b[38;5;241m.\u001b[39mxscale(\u001b[38;5;124m'\u001b[39m\u001b[38;5;124mlog\u001b[39m\u001b[38;5;124m'\u001b[39m)\n\u001b[0;32m      7\u001b[0m plt\u001b[38;5;241m.\u001b[39myscale(\u001b[38;5;124m'\u001b[39m\u001b[38;5;124mlog\u001b[39m\u001b[38;5;124m'\u001b[39m)\n",
      "\u001b[1;31mNameError\u001b[0m: name 'dfA' is not defined"
     ]
    },
    {
     "data": {
      "text/plain": [
       "<Figure size 640x480 with 0 Axes>"
      ]
     },
     "metadata": {},
     "output_type": "display_data"
    }
   ],
   "source": [
    "#TODO; plot linear plot from results using the log log template to help.  Need two plots for full credit\n",
    "\n",
    "plt.figure()\n",
    "for key in ['sorted_builtin', 'numpy_sort', 'insertion_sort']:\n",
    "    plt.plot(dfA['n'], dfA[key], marker='o', label=key)\n",
    "plt.xscale('log')\n",
    "plt.yscale('log')\n",
    "plt.xlabel('n (log)')\n",
    "plt.ylabel('Runtime (s, log)')\n",
    "plt.title('Sorting runtime vs n (log-log)')\n",
    "plt.legend()\n",
    "plt.show()"
   ]
  },
  {
   "cell_type": "markdown",
   "id": "3951406e-d43b-43c9-9274-ce1d8ab34ead",
   "metadata": {},
   "source": [
    "Part B — Data Structures in Action: Membership Testing\n",
    "Goal: Compare membership query performance for list (≈ O(n)), set (≈ O(1) average), and dict (≈ O(1) average).\n",
    "\n",
    "You will:\n",
    "\n",
    "Build collections of increasing size of unique IDs/strings.\n",
    "Generate random queries that are both present and absent.\n",
    "Measure membership test times (x in structure) for each structure type.\n",
    "Plot how query time scales with n."
   ]
  },
  {
   "cell_type": "code",
   "execution_count": 6,
   "id": "bc8ac7c2-c0cd-4fe8-a89a-8136beb26644",
   "metadata": {},
   "outputs": [
    {
     "data": {
      "text/html": [
       "<div>\n",
       "<style scoped>\n",
       "    .dataframe tbody tr th:only-of-type {\n",
       "        vertical-align: middle;\n",
       "    }\n",
       "\n",
       "    .dataframe tbody tr th {\n",
       "        vertical-align: top;\n",
       "    }\n",
       "\n",
       "    .dataframe thead th {\n",
       "        text-align: right;\n",
       "    }\n",
       "</style>\n",
       "<table border=\"1\" class=\"dataframe\">\n",
       "  <thead>\n",
       "    <tr style=\"text-align: right;\">\n",
       "      <th></th>\n",
       "      <th>n</th>\n",
       "      <th>structure</th>\n",
       "      <th>time_s</th>\n",
       "    </tr>\n",
       "  </thead>\n",
       "  <tbody>\n",
       "    <tr>\n",
       "      <th>0</th>\n",
       "      <td>10000</td>\n",
       "      <td>list</td>\n",
       "      <td>0.210712</td>\n",
       "    </tr>\n",
       "    <tr>\n",
       "      <th>1</th>\n",
       "      <td>10000</td>\n",
       "      <td>set</td>\n",
       "      <td>0.000915</td>\n",
       "    </tr>\n",
       "    <tr>\n",
       "      <th>2</th>\n",
       "      <td>10000</td>\n",
       "      <td>dict</td>\n",
       "      <td>0.000990</td>\n",
       "    </tr>\n",
       "    <tr>\n",
       "      <th>3</th>\n",
       "      <td>100000</td>\n",
       "      <td>list</td>\n",
       "      <td>4.888302</td>\n",
       "    </tr>\n",
       "    <tr>\n",
       "      <th>4</th>\n",
       "      <td>100000</td>\n",
       "      <td>set</td>\n",
       "      <td>0.001149</td>\n",
       "    </tr>\n",
       "    <tr>\n",
       "      <th>5</th>\n",
       "      <td>100000</td>\n",
       "      <td>dict</td>\n",
       "      <td>0.001943</td>\n",
       "    </tr>\n",
       "    <tr>\n",
       "      <th>6</th>\n",
       "      <td>500000</td>\n",
       "      <td>list</td>\n",
       "      <td>27.092363</td>\n",
       "    </tr>\n",
       "    <tr>\n",
       "      <th>7</th>\n",
       "      <td>500000</td>\n",
       "      <td>set</td>\n",
       "      <td>0.001223</td>\n",
       "    </tr>\n",
       "    <tr>\n",
       "      <th>8</th>\n",
       "      <td>500000</td>\n",
       "      <td>dict</td>\n",
       "      <td>0.000936</td>\n",
       "    </tr>\n",
       "  </tbody>\n",
       "</table>\n",
       "</div>"
      ],
      "text/plain": [
       "        n structure     time_s\n",
       "0   10000      list   0.210712\n",
       "1   10000       set   0.000915\n",
       "2   10000      dict   0.000990\n",
       "3  100000      list   4.888302\n",
       "4  100000       set   0.001149\n",
       "5  100000      dict   0.001943\n",
       "6  500000      list  27.092363\n",
       "7  500000       set   0.001223\n",
       "8  500000      dict   0.000936"
      ]
     },
     "execution_count": 6,
     "metadata": {},
     "output_type": "execute_result"
    }
   ],
   "source": [
    "sizes_B = [10_000, 100_000, 500_000]\n",
    "queries_per_size = 1_000\n",
    "\n",
    "def gen_ids(n):\n",
    "    ids = [f\"id_{i:07d}\" for i in range(n)]\n",
    "    rng.shuffle(ids)\n",
    "    return ids\n",
    "\n",
    "def membership_timing(ids, structure_type='list'):\n",
    "    if structure_type == 'list':\n",
    "        coll = list(ids)\n",
    "        def contains(x): return x in coll\n",
    "    elif structure_type == 'set':\n",
    "        coll = set(ids)\n",
    "        def contains(x): return x in coll\n",
    "    elif structure_type == 'dict':\n",
    "        coll = {x: True for x in ids}\n",
    "        def contains(x): return x in coll\n",
    "    \n",
    "    present = rng.choice(ids, size=queries_per_size//2, replace=False)\n",
    "    absent = [f\"nope_{i:07d}\" for i in range(queries_per_size - len(present))]\n",
    "    queries = np.concatenate([present, absent])\n",
    "    rng.shuffle(queries)\n",
    "    \n",
    "    start = time.perf_counter()\n",
    "    for q in queries:\n",
    "        _ = contains(q)\n",
    "    elapsed = time.perf_counter() - start\n",
    "    return elapsed\n",
    "\n",
    "records = {'n': [], 'structure': [], 'time_s': []}\n",
    "\n",
    "for n in sizes_B:\n",
    "    ids = gen_ids(n)\n",
    "    for stype in ['list', 'set', 'dict']:\n",
    "        t = membership_timing(ids, structure_type=stype)\n",
    "        records['n'].append(n)\n",
    "        records['structure'].append(stype)\n",
    "        records['time_s'].append(t)\n",
    "\n",
    "dfB = pd.DataFrame(records)\n",
    "dfB"
   ]
  },
  {
   "cell_type": "code",
   "execution_count": 7,
   "id": "b0d91b8c-1136-4d27-abb2-7fb183669c65",
   "metadata": {},
   "outputs": [
    {
     "data": {
      "image/png": "[encoded data removed]",
      "text/plain": [
       "<Figure size 640x480 with 1 Axes>"
      ]
     },
     "metadata": {},
     "output_type": "display_data"
    }
   ],
   "source": [
    "plt.figure()\n",
    "for stype in ['list', 'set', 'dict']:\n",
    "    sub = dfB[dfB['structure'] == stype]\n",
    "    plt.plot(sub['n'], sub['time_s'], marker='o', label=stype)\n",
    "plt.xlabel('n')\n",
    "plt.ylabel('Total time for membership queries (s)')\n",
    "plt.title('Membership testing time vs n')\n",
    "plt.legend()\n",
    "plt.show()"
   ]
  },
  {
   "cell_type": "code",
   "execution_count": 8,
   "id": "8a05a2f4-23f9-4e75-ad00-6d7041494e2f",
   "metadata": {},
   "outputs": [
    {
     "ename": "SyntaxError",
     "evalue": "invalid character '—' (U+2014) (2252497294.py, line 1)",
     "output_type": "error",
     "traceback": [
      "\u001b[1;36m  Cell \u001b[1;32mIn[8], line 1\u001b[1;36m\u001b[0m\n\u001b[1;33m    Part C — Reflection\u001b[0m\n\u001b[1;37m           ^\u001b[0m\n\u001b[1;31mSyntaxError\u001b[0m\u001b[1;31m:\u001b[0m invalid character '—' (U+2014)\n"
     ]
    }
   ],
   "source": [
    "Part C — Reflection\n",
    "In 1–2 pages, discuss:\n",
    "\n",
    "How well did your empirical results align with expected big‑O?\n",
    "What practical advice would you give a teammate choosing data structures and sorting methods?\n",
    "Were there any surprises in your experiments? Explain.\n",
    "How did you ensure reproducibility?"
   ]
  },
  {
   "cell_type": "code",
   "execution_count": null,
   "id": "be9a18cd-c128-4ab3-a6ef-28595881ca56",
   "metadata": {},
   "outputs": [],
   "source": []
  }
 ],
 "metadata": {
  "kernelspec": {
   "display_name": "Python 3 (ipykernel)",
   "language": "python",
   "name": "python3"
  },
  "language_info": {
   "codemirror_mode": {
    "name": "ipython",
    "version": 3
   },
   "file_extension": ".py",
   "mimetype": "text/x-python",
   "name": "python",
   "nbconvert_exporter": "python",
   "pygments_lexer": "ipython3",
   "version": "3.12.7"
  }
 },
 "nbformat": 4,
 "nbformat_minor": 5
}
